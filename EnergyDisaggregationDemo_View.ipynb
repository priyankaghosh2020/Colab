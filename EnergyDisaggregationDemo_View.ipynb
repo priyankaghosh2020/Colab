{
  "nbformat": 4,
  "nbformat_minor": 0,
  "metadata": {
    "colab": {
      "name": "EnergyDisaggregationDemo_View.ipynb",
      "provenance": [],
      "collapsed_sections": [],
      "toc_visible": true,
      "include_colab_link": true
    },
    "kernelspec": {
      "name": "python3",
      "display_name": "Python 3"
    }
  },
  "cells": [
    {
      "cell_type": "markdown",
      "metadata": {
        "id": "view-in-github",
        "colab_type": "text"
      },
      "source": [
        "<a href=\"https://colab.research.google.com/github/priyankaghosh2020/Colab/blob/master/EnergyDisaggregationDemo_View.ipynb\" target=\"_parent\"><img src=\"https://colab.research.google.com/assets/colab-badge.svg\" alt=\"Open In Colab\"/></a>"
      ]
    },
    {
      "cell_type": "markdown",
      "metadata": {
        "id": "3BykKKaz_eE6",
        "colab_type": "text"
      },
      "source": [
        "# License\n",
        "\n",
        "Copyright 2019 Google LLC\n",
        "\n",
        "Licensed under the Apache License, Version 2.0 (the \"License\");  \n",
        "you may not use this file except in compliance with the License.  \n",
        "You may obtain a copy of the License at . \n",
        "\n",
        "      http://www.apache.org/licenses/LICENSE-2.0\n",
        "\n",
        "Unless required by applicable law or agreed to in writing,  \n",
        "software distributed under the License is distributed on an \"AS IS\" BASIS,  \n",
        "WITHOUT WARRANTIES OR CONDITIONS OF ANY KIND, either express or implied.  \n",
        "See the License for the specific language governing permissions and  \n",
        "limitations under the License."
      ]
    },
    {
      "cell_type": "markdown",
      "metadata": {
        "id": "u35VyF5SwDVz",
        "colab_type": "text"
      },
      "source": [
        "# Pre-work"
      ]
    },
    {
      "cell_type": "code",
      "metadata": {
        "id": "x_zuXxzQjBb0",
        "colab_type": "code",
        "cellView": "form",
        "colab": {
          "resources": {
            "http://localhost:8080/nbextensions/google.colab/files.js": {
              "data": "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",
              "ok": true,
              "headers": [
                [
                  "content-type",
                  "application/javascript"
                ]
              ],
              "status": 200,
              "status_text": ""
            }
          },
          "base_uri": "https://localhost:8080/",
          "height": 72
        },
        "outputId": "b2682a46-48f9-4c27-b9a9-6eb38b42cfbb"
      },
      "source": [
        "# @title Upload files (skip this if this is run locally)\n",
        "\n",
        "# Use this cell to update the following files\n",
        "#   1. requirements.txt\n",
        "#   2. e2e_demo_credential.json\n",
        "from google.colab import files\n",
        "uploaded = files.upload()"
      ],
      "execution_count": null,
      "outputs": [
        {
          "output_type": "display_data",
          "data": {
            "text/html": [
              "\n",
              "     <input type=\"file\" id=\"files-7ded200c-deb9-4b81-81b8-613d3af6b4d8\" name=\"files[]\" multiple disabled\n",
              "        style=\"border:none\" />\n",
              "     <output id=\"result-7ded200c-deb9-4b81-81b8-613d3af6b4d8\">\n",
              "      Upload widget is only available when the cell has been executed in the\n",
              "      current browser session. Please rerun this cell to enable.\n",
              "      </output>\n",
              "      <script src=\"/nbextensions/google.colab/files.js\"></script> "
            ],
            "text/plain": [
              "<IPython.core.display.HTML object>"
            ]
          },
          "metadata": {
            "tags": []
          }
        },
        {
          "output_type": "stream",
          "text": [
            "Saving e2e_demo_credential.json to e2e_demo_credential.json\n"
          ],
          "name": "stdout"
        }
      ]
    },
    {
      "cell_type": "code",
      "metadata": {
        "id": "XkBx4CguiA0Z",
        "colab_type": "code",
        "cellView": "both",
        "colab": {
          "base_uri": "https://localhost:8080/",
          "height": 1000
        },
        "outputId": "45340102-fb7d-419e-eb57-19d1a8c53f41"
      },
      "source": [
        "# @title Install missing packages\n",
        "\n",
        "# run this cell to install packages if some are missing\n",
        "!pip install -r ./requirements.txt"
      ],
      "execution_count": null,
      "outputs": [
        {
          "output_type": "stream",
          "text": [
            "Collecting gcsfs==0.2.0\n",
            "\u001b[?25l  Downloading https://files.pythonhosted.org/packages/5f/ef/10b607c804e15f1b9c1726552c3237df3397b86ea2c421dd5e53522ce52d/gcsfs-0.2.0.tar.gz (51kB)\n",
            "\r\u001b[K     |██████▍                         | 10kB 21.4MB/s eta 0:00:01\r\u001b[K     |████████████▉                   | 20kB 27.9MB/s eta 0:00:01\r\u001b[K     |███████████████████▎            | 30kB 32.8MB/s eta 0:00:01\r\u001b[K     |█████████████████████████▋      | 40kB 29.5MB/s eta 0:00:01\r\u001b[K     |████████████████████████████████| 51kB 5.7MB/s \n",
            "\u001b[?25hCollecting dask==0.20.2\n",
            "\u001b[?25l  Downloading https://files.pythonhosted.org/packages/52/33/bc1bdd2f2965651d9e2970f82161379ead94581429621f336382acaa5c11/dask-0.20.2-py2.py3-none-any.whl (686kB)\n",
            "\u001b[K     |████████████████████████████████| 696kB 9.6MB/s \n",
            "\u001b[?25hCollecting toolz==0.9.0\n",
            "\u001b[?25l  Downloading https://files.pythonhosted.org/packages/14/d0/a73c15bbeda3d2e7b381a36afb0d9cd770a9f4adc5d1532691013ba881db/toolz-0.9.0.tar.gz (45kB)\n",
            "\u001b[K     |████████████████████████████████| 51kB 8.7MB/s \n",
            "\u001b[?25hCollecting google-cloud-bigquery==1.1.0\n",
            "\u001b[?25l  Downloading https://files.pythonhosted.org/packages/4d/7e/d47392a7449411b7e4f8c95a32c29f5c9808fa7a7111ab302fec773fa86d/google_cloud_bigquery-1.1.0-py2.py3-none-any.whl (71kB)\n",
            "\u001b[K     |████████████████████████████████| 71kB 9.0MB/s \n",
            "\u001b[?25hCollecting google-cloud-pubsub==0.39.1\n",
            "\u001b[?25l  Downloading https://files.pythonhosted.org/packages/c0/9a/4455b1c1450e9b912855b58ca6eee7a27ff1e9b52e4d98c243d93256f469/google_cloud_pubsub-0.39.1-py2.py3-none-any.whl (99kB)\n",
            "\u001b[K     |████████████████████████████████| 102kB 13.5MB/s \n",
            "\u001b[?25hCollecting google-cloud==0.34.0\n",
            "  Downloading https://files.pythonhosted.org/packages/ba/b1/7c54d1950e7808df06642274e677dbcedba57f75307adf2e5ad8d39e5e0e/google_cloud-0.34.0-py2.py3-none-any.whl\n",
            "Collecting grpc-google-iam-v1==0.11.4\n",
            "  Downloading https://files.pythonhosted.org/packages/9b/28/f26f67381cb23e81271b8d66c00a846ad9d25a909ae1ae1df8222fad2744/grpc-google-iam-v1-0.11.4.tar.gz\n",
            "Collecting google-api-core==1.7.0\n",
            "\u001b[?25l  Downloading https://files.pythonhosted.org/packages/8b/01/13758ff9b970008ccf9e0dcc3b86d0e01937d7485b9a2c6142c9c2bdb4da/google_api_core-1.7.0-py2.py3-none-any.whl (64kB)\n",
            "\u001b[K     |████████████████████████████████| 71kB 9.5MB/s \n",
            "\u001b[?25hCollecting numpy==1.14.6\n",
            "\u001b[?25l  Downloading https://files.pythonhosted.org/packages/e5/c4/395ebb218053ba44d64935b3729bc88241ec279915e72100c5979db10945/numpy-1.14.6-cp36-cp36m-manylinux1_x86_64.whl (13.8MB)\n",
            "\u001b[K     |████████████████████████████████| 13.8MB 237kB/s \n",
            "\u001b[?25hCollecting pandas==0.22.0\n",
            "\u001b[?25l  Downloading https://files.pythonhosted.org/packages/da/c6/0936bc5814b429fddb5d6252566fe73a3e40372e6ceaf87de3dec1326f28/pandas-0.22.0-cp36-cp36m-manylinux1_x86_64.whl (26.2MB)\n",
            "\u001b[K     |████████████████████████████████| 26.3MB 117kB/s \n",
            "\u001b[?25hCollecting matplotlib==2.2.3\n",
            "\u001b[?25l  Downloading https://files.pythonhosted.org/packages/9e/59/f235ab21bbe7b7c6570c4abf17ffb893071f4fa3b9cf557b09b60359ad9a/matplotlib-2.2.3-cp36-cp36m-manylinux1_x86_64.whl (12.6MB)\n",
            "\u001b[K     |████████████████████████████████| 12.6MB 249kB/s \n",
            "\u001b[?25hCollecting pandas_gbq==0.4.1\n",
            "  Downloading https://files.pythonhosted.org/packages/c0/d3/f43ebb4ed2482bfeb0bda0c9445c62208180dbe4fe0b7a7c0942c3b6576a/pandas_gbq-0.4.1-py2.py3-none-any.whl\n",
            "Collecting seaborn==0.9.0\n",
            "\u001b[?25l  Downloading https://files.pythonhosted.org/packages/a8/76/220ba4420459d9c4c9c9587c6ce607bf56c25b3d3d2de62056efe482dadc/seaborn-0.9.0-py3-none-any.whl (208kB)\n",
            "\u001b[K     |████████████████████████████████| 215kB 55.4MB/s \n",
            "\u001b[?25hCollecting google-api-python-client==1.6.7\n",
            "\u001b[?25l  Downloading https://files.pythonhosted.org/packages/eb/6c/8c1781a251beb3bc1670d6d1934da51620a049380ea7a6a821099f884b62/google_api_python_client-1.6.7-py2.py3-none-any.whl (56kB)\n",
            "\u001b[K     |████████████████████████████████| 61kB 8.5MB/s \n",
            "\u001b[?25hRequirement already satisfied: google-auth-httplib2==0.0.3 in /usr/local/lib/python3.6/dist-packages (from -r ./requirements.txt (line 15)) (0.0.3)\n",
            "Collecting google-auth==1.4.2\n",
            "\u001b[?25l  Downloading https://files.pythonhosted.org/packages/56/80/369a47c28ce7d9be6a6973338133d073864d8efbb62747e414c34a3a5f4f/google_auth-1.4.2-py2.py3-none-any.whl (64kB)\n",
            "\u001b[K     |████████████████████████████████| 71kB 11.6MB/s \n",
            "\u001b[?25hCollecting cryptography==2.4.2\n",
            "\u001b[?25l  Downloading https://files.pythonhosted.org/packages/60/c7/99b33c53cf3f20a97a4c4bfd3ab66dcc93d99da0a97cc9597aa36ae6bb62/cryptography-2.4.2-cp34-abi3-manylinux1_x86_64.whl (2.1MB)\n",
            "\u001b[K     |████████████████████████████████| 2.1MB 47.1MB/s \n",
            "\u001b[?25hCollecting pyjwt==1.7.1\n",
            "  Downloading https://files.pythonhosted.org/packages/87/8b/6a9f14b5f781697e51259d81657e6048fd31a113229cf346880bb7545565/PyJWT-1.7.1-py2.py3-none-any.whl\n",
            "Collecting paho-mqtt==1.4.0\n",
            "\u001b[?25l  Downloading https://files.pythonhosted.org/packages/25/63/db25e62979c2a716a74950c9ed658dce431b5cb01fde29eb6cba9489a904/paho-mqtt-1.4.0.tar.gz (88kB)\n",
            "\u001b[K     |████████████████████████████████| 92kB 13.9MB/s \n",
            "\u001b[?25hRequirement already satisfied: google-auth-oauthlib in /usr/local/lib/python3.6/dist-packages (from gcsfs==0.2.0->-r ./requirements.txt (line 1)) (0.4.1)\n",
            "Requirement already satisfied: requests in /usr/local/lib/python3.6/dist-packages (from gcsfs==0.2.0->-r ./requirements.txt (line 1)) (2.23.0)\n",
            "Requirement already satisfied: decorator in /usr/local/lib/python3.6/dist-packages (from gcsfs==0.2.0->-r ./requirements.txt (line 1)) (4.4.2)\n",
            "Requirement already satisfied: google-resumable-media>=0.2.1 in /usr/local/lib/python3.6/dist-packages (from google-cloud-bigquery==1.1.0->-r ./requirements.txt (line 4)) (0.4.1)\n",
            "Collecting google-cloud-core<0.29dev,>=0.28.0\n",
            "  Downloading https://files.pythonhosted.org/packages/0f/41/ae2418b4003a14cf21c1c46d61d1b044bf02cf0f8f91598af572b9216515/google_cloud_core-0.28.1-py2.py3-none-any.whl\n",
            "Requirement already satisfied: grpcio<2.0.0dev,>=1.0.0 in /usr/local/lib/python3.6/dist-packages (from grpc-google-iam-v1==0.11.4->-r ./requirements.txt (line 7)) (1.29.0)\n",
            "Requirement already satisfied: googleapis-common-protos[grpc]<2.0.0dev,>=1.5.2 in /usr/local/lib/python3.6/dist-packages (from grpc-google-iam-v1==0.11.4->-r ./requirements.txt (line 7)) (1.52.0)\n",
            "Requirement already satisfied: six>=1.10.0 in /usr/local/lib/python3.6/dist-packages (from google-api-core==1.7.0->-r ./requirements.txt (line 8)) (1.12.0)\n",
            "Requirement already satisfied: pytz in /usr/local/lib/python3.6/dist-packages (from google-api-core==1.7.0->-r ./requirements.txt (line 8)) (2018.9)\n",
            "Requirement already satisfied: setuptools>=34.0.0 in /usr/local/lib/python3.6/dist-packages (from google-api-core==1.7.0->-r ./requirements.txt (line 8)) (47.3.1)\n",
            "Requirement already satisfied: protobuf>=3.4.0 in /usr/local/lib/python3.6/dist-packages (from google-api-core==1.7.0->-r ./requirements.txt (line 8)) (3.10.0)\n",
            "Requirement already satisfied: python-dateutil>=2 in /usr/local/lib/python3.6/dist-packages (from pandas==0.22.0->-r ./requirements.txt (line 10)) (2.8.1)\n",
            "Requirement already satisfied: pyparsing!=2.0.4,!=2.1.2,!=2.1.6,>=2.0.1 in /usr/local/lib/python3.6/dist-packages (from matplotlib==2.2.3->-r ./requirements.txt (line 11)) (2.4.7)\n",
            "Requirement already satisfied: kiwisolver>=1.0.1 in /usr/local/lib/python3.6/dist-packages (from matplotlib==2.2.3->-r ./requirements.txt (line 11)) (1.2.0)\n",
            "Requirement already satisfied: cycler>=0.10 in /usr/local/lib/python3.6/dist-packages (from matplotlib==2.2.3->-r ./requirements.txt (line 11)) (0.10.0)\n",
            "Requirement already satisfied: scipy>=0.14.0 in /usr/local/lib/python3.6/dist-packages (from seaborn==0.9.0->-r ./requirements.txt (line 13)) (1.4.1)\n",
            "Requirement already satisfied: uritemplate<4dev,>=3.0.0 in /usr/local/lib/python3.6/dist-packages (from google-api-python-client==1.6.7->-r ./requirements.txt (line 14)) (3.0.1)\n",
            "Requirement already satisfied: oauth2client<5.0.0dev,>=1.5.0 in /usr/local/lib/python3.6/dist-packages (from google-api-python-client==1.6.7->-r ./requirements.txt (line 14)) (4.1.3)\n",
            "Requirement already satisfied: httplib2<1dev,>=0.9.2 in /usr/local/lib/python3.6/dist-packages (from google-api-python-client==1.6.7->-r ./requirements.txt (line 14)) (0.17.4)\n",
            "Requirement already satisfied: rsa>=3.1.4 in /usr/local/lib/python3.6/dist-packages (from google-auth==1.4.2->-r ./requirements.txt (line 16)) (4.6)\n",
            "Requirement already satisfied: cachetools>=2.0.0 in /usr/local/lib/python3.6/dist-packages (from google-auth==1.4.2->-r ./requirements.txt (line 16)) (4.1.0)\n",
            "Requirement already satisfied: pyasn1-modules>=0.2.1 in /usr/local/lib/python3.6/dist-packages (from google-auth==1.4.2->-r ./requirements.txt (line 16)) (0.2.8)\n",
            "Requirement already satisfied: cffi!=1.11.3,>=1.7 in /usr/local/lib/python3.6/dist-packages (from cryptography==2.4.2->-r ./requirements.txt (line 17)) (1.14.0)\n",
            "Collecting asn1crypto>=0.21.0\n",
            "\u001b[?25l  Downloading https://files.pythonhosted.org/packages/e9/51/1db4a60049fb7390959be586b6eb743098e6cea3f6b2d3ed9e17fec62ba2/asn1crypto-1.3.0-py2.py3-none-any.whl (103kB)\n",
            "\u001b[K     |████████████████████████████████| 112kB 55.4MB/s \n",
            "\u001b[?25hRequirement already satisfied: idna>=2.1 in /usr/local/lib/python3.6/dist-packages (from cryptography==2.4.2->-r ./requirements.txt (line 17)) (2.9)\n",
            "Requirement already satisfied: requests-oauthlib>=0.7.0 in /usr/local/lib/python3.6/dist-packages (from google-auth-oauthlib->gcsfs==0.2.0->-r ./requirements.txt (line 1)) (1.3.0)\n",
            "Requirement already satisfied: urllib3!=1.25.0,!=1.25.1,<1.26,>=1.21.1 in /usr/local/lib/python3.6/dist-packages (from requests->gcsfs==0.2.0->-r ./requirements.txt (line 1)) (1.24.3)\n",
            "Requirement already satisfied: certifi>=2017.4.17 in /usr/local/lib/python3.6/dist-packages (from requests->gcsfs==0.2.0->-r ./requirements.txt (line 1)) (2020.4.5.2)\n",
            "Requirement already satisfied: chardet<4,>=3.0.2 in /usr/local/lib/python3.6/dist-packages (from requests->gcsfs==0.2.0->-r ./requirements.txt (line 1)) (3.0.4)\n",
            "Requirement already satisfied: pyasn1>=0.1.7 in /usr/local/lib/python3.6/dist-packages (from oauth2client<5.0.0dev,>=1.5.0->google-api-python-client==1.6.7->-r ./requirements.txt (line 14)) (0.4.8)\n",
            "Requirement already satisfied: pycparser in /usr/local/lib/python3.6/dist-packages (from cffi!=1.11.3,>=1.7->cryptography==2.4.2->-r ./requirements.txt (line 17)) (2.20)\n",
            "Requirement already satisfied: oauthlib>=3.0.0 in /usr/local/lib/python3.6/dist-packages (from requests-oauthlib>=0.7.0->google-auth-oauthlib->gcsfs==0.2.0->-r ./requirements.txt (line 1)) (3.1.0)\n",
            "Building wheels for collected packages: gcsfs, toolz, grpc-google-iam-v1, paho-mqtt\n",
            "  Building wheel for gcsfs (setup.py) ... \u001b[?25l\u001b[?25hdone\n",
            "  Created wheel for gcsfs: filename=gcsfs-0.2.0-cp36-none-any.whl size=26894 sha256=c9221b0dcabd6008fd12426898e36638aacda629a0a1f36347dda90c8129866a\n",
            "  Stored in directory: /root/.cache/pip/wheels/0a/3c/83/fe2a541de7b1a999b2e6fc7443fcdb49afc5b6664574063186\n",
            "  Building wheel for toolz (setup.py) ... \u001b[?25l\u001b[?25hdone\n",
            "  Created wheel for toolz: filename=toolz-0.9.0-cp36-none-any.whl size=53240 sha256=2ae6382b1318638a05039fb2ed2e9de6391a67a0807af196482c98250092b441\n",
            "  Stored in directory: /root/.cache/pip/wheels/f4/0c/f6/ce6b2d1aa459ee97cc3c0f82236302bd62d89c86c700219463\n",
            "  Building wheel for grpc-google-iam-v1 (setup.py) ... \u001b[?25l\u001b[?25hdone\n",
            "  Created wheel for grpc-google-iam-v1: filename=grpc_google_iam_v1-0.11.4-cp36-none-any.whl size=16131 sha256=1ec2c72404d9d81ca8f67c6bc47febea3c68663b8444ea6d101afe0a73b4e9ed\n",
            "  Stored in directory: /root/.cache/pip/wheels/b6/c6/31/c20321a5a3fde456fc375b7c2814135e6e98bc0d74c40239d9\n",
            "  Building wheel for paho-mqtt (setup.py) ... \u001b[?25l\u001b[?25hdone\n",
            "  Created wheel for paho-mqtt: filename=paho_mqtt-1.4.0-cp36-none-any.whl size=48331 sha256=c6fca31c61bd4c42e5965f54a4fbe65df44ccadcff60a332d3af8f9fb8aed5bb\n",
            "  Stored in directory: /root/.cache/pip/wheels/82/e5/de/d90d0f397648a1b58ffeea1b5742ac8c77f71fd43b550fa5a5\n",
            "Successfully built gcsfs toolz grpc-google-iam-v1 paho-mqtt\n",
            "\u001b[31mERROR: xarray 0.15.1 has requirement numpy>=1.15, but you'll have numpy 1.14.6 which is incompatible.\u001b[0m\n",
            "\u001b[31mERROR: xarray 0.15.1 has requirement pandas>=0.25, but you'll have pandas 0.22.0 which is incompatible.\u001b[0m\n",
            "\u001b[31mERROR: umap-learn 0.4.4 has requirement numpy>=1.17, but you'll have numpy 1.14.6 which is incompatible.\u001b[0m\n",
            "\u001b[31mERROR: tifffile 2020.6.3 has requirement numpy>=1.15.1, but you'll have numpy 1.14.6 which is incompatible.\u001b[0m\n",
            "\u001b[31mERROR: tensorflow 2.2.0 has requirement numpy<2.0,>=1.16.0, but you'll have numpy 1.14.6 which is incompatible.\u001b[0m\n",
            "\u001b[31mERROR: tensorboard 2.2.2 has requirement google-auth<2,>=1.6.3, but you'll have google-auth 1.4.2 which is incompatible.\u001b[0m\n",
            "\u001b[31mERROR: spacy 2.2.4 has requirement numpy>=1.15.0, but you'll have numpy 1.14.6 which is incompatible.\u001b[0m\n",
            "\u001b[31mERROR: plotnine 0.6.0 has requirement matplotlib>=3.1.1, but you'll have matplotlib 2.2.3 which is incompatible.\u001b[0m\n",
            "\u001b[31mERROR: plotnine 0.6.0 has requirement numpy>=1.16.0, but you'll have numpy 1.14.6 which is incompatible.\u001b[0m\n",
            "\u001b[31mERROR: plotnine 0.6.0 has requirement pandas>=0.25.0, but you'll have pandas 0.22.0 which is incompatible.\u001b[0m\n",
            "\u001b[31mERROR: numba 0.48.0 has requirement numpy>=1.15, but you'll have numpy 1.14.6 which is incompatible.\u001b[0m\n",
            "\u001b[31mERROR: mizani 0.6.0 has requirement matplotlib>=3.1.1, but you'll have matplotlib 2.2.3 which is incompatible.\u001b[0m\n",
            "\u001b[31mERROR: mizani 0.6.0 has requirement pandas>=0.25.0, but you'll have pandas 0.22.0 which is incompatible.\u001b[0m\n",
            "\u001b[31mERROR: imgaug 0.2.9 has requirement numpy>=1.15.0, but you'll have numpy 1.14.6 which is incompatible.\u001b[0m\n",
            "\u001b[31mERROR: google-colab 1.0.0 has requirement google-auth~=1.17.2, but you'll have google-auth 1.4.2 which is incompatible.\u001b[0m\n",
            "\u001b[31mERROR: google-colab 1.0.0 has requirement pandas~=1.0.0; python_version >= \"3.0\", but you'll have pandas 0.22.0 which is incompatible.\u001b[0m\n",
            "\u001b[31mERROR: google-cloud-translate 1.5.0 has requirement google-cloud-core<2.0dev,>=1.0.0, but you'll have google-cloud-core 0.28.1 which is incompatible.\u001b[0m\n",
            "\u001b[31mERROR: google-cloud-storage 1.18.1 has requirement google-cloud-core<2.0dev,>=1.0.0, but you'll have google-cloud-core 0.28.1 which is incompatible.\u001b[0m\n",
            "\u001b[31mERROR: google-cloud-firestore 1.7.0 has requirement google-api-core[grpc]<2.0.0dev,>=1.14.0, but you'll have google-api-core 1.7.0 which is incompatible.\u001b[0m\n",
            "\u001b[31mERROR: google-cloud-firestore 1.7.0 has requirement google-cloud-core<2.0dev,>=1.0.3, but you'll have google-cloud-core 0.28.1 which is incompatible.\u001b[0m\n",
            "\u001b[31mERROR: google-cloud-datastore 1.8.0 has requirement google-cloud-core<2.0dev,>=1.0.0, but you'll have google-cloud-core 0.28.1 which is incompatible.\u001b[0m\n",
            "\u001b[31mERROR: firebase-admin 4.1.0 has requirement google-api-core[grpc]<2.0.0dev,>=1.14.0; platform_python_implementation != \"PyPy\", but you'll have google-api-core 1.7.0 which is incompatible.\u001b[0m\n",
            "\u001b[31mERROR: firebase-admin 4.1.0 has requirement google-api-python-client>=1.7.8, but you'll have google-api-python-client 1.6.7 which is incompatible.\u001b[0m\n",
            "\u001b[31mERROR: featuretools 0.4.1 has requirement pandas>=0.23.0, but you'll have pandas 0.22.0 which is incompatible.\u001b[0m\n",
            "\u001b[31mERROR: fbprophet 0.6 has requirement pandas>=0.23.4, but you'll have pandas 0.22.0 which is incompatible.\u001b[0m\n",
            "\u001b[31mERROR: fastai 1.0.61 has requirement numpy>=1.15, but you'll have numpy 1.14.6 which is incompatible.\u001b[0m\n",
            "\u001b[31mERROR: datascience 0.10.6 has requirement folium==0.2.1, but you'll have folium 0.8.3 which is incompatible.\u001b[0m\n",
            "\u001b[31mERROR: cvxpy 1.0.31 has requirement numpy>=1.15, but you'll have numpy 1.14.6 which is incompatible.\u001b[0m\n",
            "\u001b[31mERROR: blis 0.4.1 has requirement numpy>=1.15.0, but you'll have numpy 1.14.6 which is incompatible.\u001b[0m\n",
            "\u001b[31mERROR: astropy 4.0.1.post1 has requirement numpy>=1.16, but you'll have numpy 1.14.6 which is incompatible.\u001b[0m\n",
            "\u001b[31mERROR: albumentations 0.1.12 has requirement imgaug<0.2.7,>=0.2.5, but you'll have imgaug 0.2.9 which is incompatible.\u001b[0m\n",
            "Installing collected packages: google-auth, gcsfs, dask, toolz, google-api-core, google-cloud-core, google-cloud-bigquery, grpc-google-iam-v1, google-cloud-pubsub, google-cloud, numpy, pandas, matplotlib, pandas-gbq, seaborn, google-api-python-client, asn1crypto, cryptography, pyjwt, paho-mqtt\n",
            "  Found existing installation: google-auth 1.17.2\n",
            "    Uninstalling google-auth-1.17.2:\n",
            "      Successfully uninstalled google-auth-1.17.2\n",
            "  Found existing installation: dask 2.12.0\n",
            "    Uninstalling dask-2.12.0:\n",
            "      Successfully uninstalled dask-2.12.0\n",
            "  Found existing installation: toolz 0.10.0\n",
            "    Uninstalling toolz-0.10.0:\n",
            "      Successfully uninstalled toolz-0.10.0\n",
            "  Found existing installation: google-api-core 1.16.0\n",
            "    Uninstalling google-api-core-1.16.0:\n",
            "      Successfully uninstalled google-api-core-1.16.0\n",
            "  Found existing installation: google-cloud-core 1.0.3\n",
            "    Uninstalling google-cloud-core-1.0.3:\n",
            "      Successfully uninstalled google-cloud-core-1.0.3\n",
            "  Found existing installation: google-cloud-bigquery 1.21.0\n",
            "    Uninstalling google-cloud-bigquery-1.21.0:\n",
            "      Successfully uninstalled google-cloud-bigquery-1.21.0\n",
            "  Found existing installation: numpy 1.18.5\n",
            "    Uninstalling numpy-1.18.5:\n",
            "      Successfully uninstalled numpy-1.18.5\n",
            "  Found existing installation: pandas 1.0.4\n",
            "    Uninstalling pandas-1.0.4:\n",
            "      Successfully uninstalled pandas-1.0.4\n",
            "  Found existing installation: matplotlib 3.2.1\n",
            "    Uninstalling matplotlib-3.2.1:\n",
            "      Successfully uninstalled matplotlib-3.2.1\n",
            "  Found existing installation: pandas-gbq 0.11.0\n",
            "    Uninstalling pandas-gbq-0.11.0:\n",
            "      Successfully uninstalled pandas-gbq-0.11.0\n",
            "  Found existing installation: seaborn 0.10.1\n",
            "    Uninstalling seaborn-0.10.1:\n",
            "      Successfully uninstalled seaborn-0.10.1\n",
            "  Found existing installation: google-api-python-client 1.7.12\n",
            "    Uninstalling google-api-python-client-1.7.12:\n",
            "      Successfully uninstalled google-api-python-client-1.7.12\n",
            "Successfully installed asn1crypto-1.3.0 cryptography-2.4.2 dask-0.20.2 gcsfs-0.2.0 google-api-core-1.7.0 google-api-python-client-1.6.7 google-auth-1.4.2 google-cloud-0.34.0 google-cloud-bigquery-1.1.0 google-cloud-core-0.28.1 google-cloud-pubsub-0.39.1 grpc-google-iam-v1-0.11.4 matplotlib-2.2.3 numpy-1.14.6 paho-mqtt-1.4.0 pandas-0.22.0 pandas-gbq-0.4.1 pyjwt-1.7.1 seaborn-0.9.0 toolz-0.9.0\n"
          ],
          "name": "stdout"
        },
        {
          "output_type": "display_data",
          "data": {
            "application/vnd.colab-display-data+json": {
              "pip_warning": {
                "packages": [
                  "google",
                  "matplotlib",
                  "mpl_toolkits",
                  "numpy",
                  "pandas"
                ]
              }
            }
          },
          "metadata": {
            "tags": []
          }
        }
      ]
    },
    {
      "cell_type": "code",
      "metadata": {
        "id": "WWHgYgysIsvN",
        "colab_type": "code",
        "colab": {
          "base_uri": "https://localhost:8080/",
          "height": 1000
        },
        "outputId": "bb5bfccb-afca-4281-eee0-e654a76d8c6c"
      },
      "source": [
        "!pip install pandas==1.0.5\n",
        "!pip install --upgrade google-cloud-bigquery\n",
        "!pip install --upgrade google-cloud\n",
        "!pip install --upgrade google-cloud-pubsub"
      ],
      "execution_count": null,
      "outputs": [
        {
          "output_type": "stream",
          "text": [
            "Collecting pandas==1.0.5\n",
            "\u001b[?25l  Downloading https://files.pythonhosted.org/packages/c0/95/cb9820560a2713384ef49060b0087dfa2591c6db6f240215c2bce1f4211c/pandas-1.0.5-cp36-cp36m-manylinux1_x86_64.whl (10.1MB)\n",
            "\u001b[K     |████████████████████████████████| 10.1MB 5.2MB/s \n",
            "\u001b[?25hRequirement already satisfied: numpy>=1.13.3 in /usr/local/lib/python3.6/dist-packages (from pandas==1.0.5) (1.18.5)\n",
            "Requirement already satisfied: pytz>=2017.2 in /usr/local/lib/python3.6/dist-packages (from pandas==1.0.5) (2018.9)\n",
            "Requirement already satisfied: python-dateutil>=2.6.1 in /usr/local/lib/python3.6/dist-packages (from pandas==1.0.5) (2.8.1)\n",
            "Requirement already satisfied: six>=1.5 in /usr/local/lib/python3.6/dist-packages (from python-dateutil>=2.6.1->pandas==1.0.5) (1.12.0)\n",
            "Installing collected packages: pandas\n",
            "  Found existing installation: pandas 1.0.4\n",
            "    Uninstalling pandas-1.0.4:\n",
            "      Successfully uninstalled pandas-1.0.4\n",
            "Successfully installed pandas-1.0.5\n"
          ],
          "name": "stdout"
        },
        {
          "output_type": "display_data",
          "data": {
            "application/vnd.colab-display-data+json": {
              "pip_warning": {
                "packages": [
                  "pandas"
                ]
              }
            }
          },
          "metadata": {
            "tags": []
          }
        },
        {
          "output_type": "stream",
          "text": [
            "Collecting google-cloud-bigquery\n",
            "\u001b[?25l  Downloading https://files.pythonhosted.org/packages/48/6d/e8f5e5cd05ee968682d389cec3fdbccb920f1f8302464a46ef87b7b8fdad/google_cloud_bigquery-1.25.0-py2.py3-none-any.whl (169kB)\n",
            "\r\u001b[K     |██                              | 10kB 19.0MB/s eta 0:00:01\r\u001b[K     |███▉                            | 20kB 5.6MB/s eta 0:00:01\r\u001b[K     |█████▉                          | 30kB 5.6MB/s eta 0:00:01\r\u001b[K     |███████▊                        | 40kB 6.6MB/s eta 0:00:01\r\u001b[K     |█████████▊                      | 51kB 6.3MB/s eta 0:00:01\r\u001b[K     |███████████▋                    | 61kB 7.2MB/s eta 0:00:01\r\u001b[K     |█████████████▋                  | 71kB 7.6MB/s eta 0:00:01\r\u001b[K     |███████████████▌                | 81kB 7.4MB/s eta 0:00:01\r\u001b[K     |█████████████████▍              | 92kB 7.7MB/s eta 0:00:01\r\u001b[K     |███████████████████▍            | 102kB 7.5MB/s eta 0:00:01\r\u001b[K     |█████████████████████▎          | 112kB 7.5MB/s eta 0:00:01\r\u001b[K     |███████████████████████▎        | 122kB 7.5MB/s eta 0:00:01\r\u001b[K     |█████████████████████████▏      | 133kB 7.5MB/s eta 0:00:01\r\u001b[K     |███████████████████████████▏    | 143kB 7.5MB/s eta 0:00:01\r\u001b[K     |█████████████████████████████   | 153kB 7.5MB/s eta 0:00:01\r\u001b[K     |███████████████████████████████ | 163kB 7.5MB/s eta 0:00:01\r\u001b[K     |████████████████████████████████| 174kB 7.5MB/s \n",
            "\u001b[?25hCollecting google-cloud-core<2.0dev,>=1.1.0\n",
            "  Downloading https://files.pythonhosted.org/packages/89/3c/8a7531839028c9690e6d14c650521f3bbaf26e53baaeb2784b8c3eb2fb97/google_cloud_core-1.3.0-py2.py3-none-any.whl\n",
            "Collecting six<2.0.0dev,>=1.13.0\n",
            "  Downloading https://files.pythonhosted.org/packages/ee/ff/48bde5c0f013094d729fe4b0316ba2a24774b3ff1c52d924a8a4cb04078a/six-1.15.0-py2.py3-none-any.whl\n",
            "Requirement already satisfied, skipping upgrade: google-api-core<2.0dev,>=1.15.0 in /usr/local/lib/python3.6/dist-packages (from google-cloud-bigquery) (1.16.0)\n",
            "Requirement already satisfied, skipping upgrade: google-auth<2.0dev,>=1.9.0 in /usr/local/lib/python3.6/dist-packages (from google-cloud-bigquery) (1.17.2)\n",
            "Requirement already satisfied, skipping upgrade: protobuf>=3.6.0 in /usr/local/lib/python3.6/dist-packages (from google-cloud-bigquery) (3.10.0)\n",
            "Collecting google-resumable-media<0.6dev,>=0.5.0\n",
            "  Downloading https://files.pythonhosted.org/packages/f2/cc/cd05c633298fcbba5d61b6b8844de598e001954281a004fc1a13c61a5121/google_resumable_media-0.5.1-py2.py3-none-any.whl\n",
            "Requirement already satisfied, skipping upgrade: setuptools>=34.0.0 in /usr/local/lib/python3.6/dist-packages (from google-api-core<2.0dev,>=1.15.0->google-cloud-bigquery) (47.3.1)\n",
            "Requirement already satisfied, skipping upgrade: pytz in /usr/local/lib/python3.6/dist-packages (from google-api-core<2.0dev,>=1.15.0->google-cloud-bigquery) (2018.9)\n",
            "Requirement already satisfied, skipping upgrade: googleapis-common-protos<2.0dev,>=1.6.0 in /usr/local/lib/python3.6/dist-packages (from google-api-core<2.0dev,>=1.15.0->google-cloud-bigquery) (1.52.0)\n",
            "Requirement already satisfied, skipping upgrade: requests<3.0.0dev,>=2.18.0 in /usr/local/lib/python3.6/dist-packages (from google-api-core<2.0dev,>=1.15.0->google-cloud-bigquery) (2.23.0)\n",
            "Requirement already satisfied, skipping upgrade: pyasn1-modules>=0.2.1 in /usr/local/lib/python3.6/dist-packages (from google-auth<2.0dev,>=1.9.0->google-cloud-bigquery) (0.2.8)\n",
            "Requirement already satisfied, skipping upgrade: cachetools<5.0,>=2.0.0 in /usr/local/lib/python3.6/dist-packages (from google-auth<2.0dev,>=1.9.0->google-cloud-bigquery) (4.1.0)\n",
            "Requirement already satisfied, skipping upgrade: rsa<5,>=3.1.4; python_version >= \"3\" in /usr/local/lib/python3.6/dist-packages (from google-auth<2.0dev,>=1.9.0->google-cloud-bigquery) (4.6)\n",
            "Requirement already satisfied, skipping upgrade: chardet<4,>=3.0.2 in /usr/local/lib/python3.6/dist-packages (from requests<3.0.0dev,>=2.18.0->google-api-core<2.0dev,>=1.15.0->google-cloud-bigquery) (3.0.4)\n",
            "Requirement already satisfied, skipping upgrade: urllib3!=1.25.0,!=1.25.1,<1.26,>=1.21.1 in /usr/local/lib/python3.6/dist-packages (from requests<3.0.0dev,>=2.18.0->google-api-core<2.0dev,>=1.15.0->google-cloud-bigquery) (1.24.3)\n",
            "Requirement already satisfied, skipping upgrade: certifi>=2017.4.17 in /usr/local/lib/python3.6/dist-packages (from requests<3.0.0dev,>=2.18.0->google-api-core<2.0dev,>=1.15.0->google-cloud-bigquery) (2020.4.5.2)\n",
            "Requirement already satisfied, skipping upgrade: idna<3,>=2.5 in /usr/local/lib/python3.6/dist-packages (from requests<3.0.0dev,>=2.18.0->google-api-core<2.0dev,>=1.15.0->google-cloud-bigquery) (2.9)\n",
            "Requirement already satisfied, skipping upgrade: pyasn1<0.5.0,>=0.4.6 in /usr/local/lib/python3.6/dist-packages (from pyasn1-modules>=0.2.1->google-auth<2.0dev,>=1.9.0->google-cloud-bigquery) (0.4.8)\n",
            "\u001b[31mERROR: google-colab 1.0.0 has requirement six~=1.12.0, but you'll have six 1.15.0 which is incompatible.\u001b[0m\n",
            "\u001b[31mERROR: google-cloud-storage 1.18.1 has requirement google-resumable-media<0.5.0dev,>=0.3.1, but you'll have google-resumable-media 0.5.1 which is incompatible.\u001b[0m\n",
            "\u001b[31mERROR: datascience 0.10.6 has requirement folium==0.2.1, but you'll have folium 0.8.3 which is incompatible.\u001b[0m\n",
            "\u001b[31mERROR: albumentations 0.1.12 has requirement imgaug<0.2.7,>=0.2.5, but you'll have imgaug 0.2.9 which is incompatible.\u001b[0m\n",
            "Installing collected packages: google-cloud-core, six, google-resumable-media, google-cloud-bigquery\n",
            "  Found existing installation: google-cloud-core 1.0.3\n",
            "    Uninstalling google-cloud-core-1.0.3:\n",
            "      Successfully uninstalled google-cloud-core-1.0.3\n",
            "  Found existing installation: six 1.12.0\n",
            "    Uninstalling six-1.12.0:\n",
            "      Successfully uninstalled six-1.12.0\n",
            "  Found existing installation: google-resumable-media 0.4.1\n",
            "    Uninstalling google-resumable-media-0.4.1:\n",
            "      Successfully uninstalled google-resumable-media-0.4.1\n",
            "  Found existing installation: google-cloud-bigquery 1.21.0\n",
            "    Uninstalling google-cloud-bigquery-1.21.0:\n",
            "      Successfully uninstalled google-cloud-bigquery-1.21.0\n",
            "Successfully installed google-cloud-bigquery-1.25.0 google-cloud-core-1.3.0 google-resumable-media-0.5.1 six-1.15.0\n"
          ],
          "name": "stdout"
        },
        {
          "output_type": "display_data",
          "data": {
            "application/vnd.colab-display-data+json": {
              "pip_warning": {
                "packages": [
                  "google",
                  "six"
                ]
              }
            }
          },
          "metadata": {
            "tags": []
          }
        },
        {
          "output_type": "stream",
          "text": [
            "Collecting google-cloud\n",
            "  Downloading https://files.pythonhosted.org/packages/ba/b1/7c54d1950e7808df06642274e677dbcedba57f75307adf2e5ad8d39e5e0e/google_cloud-0.34.0-py2.py3-none-any.whl\n",
            "Installing collected packages: google-cloud\n",
            "Successfully installed google-cloud-0.34.0\n",
            "Collecting google-cloud-pubsub\n",
            "\u001b[?25l  Downloading https://files.pythonhosted.org/packages/bc/81/b362beb42a4038d8a30b07856b6892bbe7abbaa4ca4da5b52280702f5eb9/google_cloud_pubsub-1.6.0-py2.py3-none-any.whl (143kB)\n",
            "\u001b[K     |████████████████████████████████| 143kB 7.8MB/s \n",
            "\u001b[?25hRequirement already satisfied, skipping upgrade: google-api-core[grpc]!=1.17.*,!=1.18.*,!=1.19.*,>=1.14.0 in /usr/local/lib/python3.6/dist-packages (from google-cloud-pubsub) (1.16.0)\n",
            "Collecting grpc-google-iam-v1<0.13dev,>=0.12.3\n",
            "  Downloading https://files.pythonhosted.org/packages/65/19/2060c8faa325fddc09aa67af98ffcb6813f39a0ad805679fa64815362b3a/grpc-google-iam-v1-0.12.3.tar.gz\n",
            "Requirement already satisfied, skipping upgrade: googleapis-common-protos<2.0dev,>=1.6.0 in /usr/local/lib/python3.6/dist-packages (from google-api-core[grpc]!=1.17.*,!=1.18.*,!=1.19.*,>=1.14.0->google-cloud-pubsub) (1.52.0)\n",
            "Requirement already satisfied, skipping upgrade: google-auth<2.0dev,>=0.4.0 in /usr/local/lib/python3.6/dist-packages (from google-api-core[grpc]!=1.17.*,!=1.18.*,!=1.19.*,>=1.14.0->google-cloud-pubsub) (1.17.2)\n",
            "Requirement already satisfied, skipping upgrade: six>=1.10.0 in /usr/local/lib/python3.6/dist-packages (from google-api-core[grpc]!=1.17.*,!=1.18.*,!=1.19.*,>=1.14.0->google-cloud-pubsub) (1.15.0)\n",
            "Requirement already satisfied, skipping upgrade: pytz in /usr/local/lib/python3.6/dist-packages (from google-api-core[grpc]!=1.17.*,!=1.18.*,!=1.19.*,>=1.14.0->google-cloud-pubsub) (2018.9)\n",
            "Requirement already satisfied, skipping upgrade: setuptools>=34.0.0 in /usr/local/lib/python3.6/dist-packages (from google-api-core[grpc]!=1.17.*,!=1.18.*,!=1.19.*,>=1.14.0->google-cloud-pubsub) (47.3.1)\n",
            "Requirement already satisfied, skipping upgrade: requests<3.0.0dev,>=2.18.0 in /usr/local/lib/python3.6/dist-packages (from google-api-core[grpc]!=1.17.*,!=1.18.*,!=1.19.*,>=1.14.0->google-cloud-pubsub) (2.23.0)\n",
            "Requirement already satisfied, skipping upgrade: protobuf>=3.4.0 in /usr/local/lib/python3.6/dist-packages (from google-api-core[grpc]!=1.17.*,!=1.18.*,!=1.19.*,>=1.14.0->google-cloud-pubsub) (3.10.0)\n",
            "Requirement already satisfied, skipping upgrade: grpcio<2.0dev,>=1.8.2; extra == \"grpc\" in /usr/local/lib/python3.6/dist-packages (from google-api-core[grpc]!=1.17.*,!=1.18.*,!=1.19.*,>=1.14.0->google-cloud-pubsub) (1.29.0)\n",
            "Requirement already satisfied, skipping upgrade: rsa<5,>=3.1.4; python_version >= \"3\" in /usr/local/lib/python3.6/dist-packages (from google-auth<2.0dev,>=0.4.0->google-api-core[grpc]!=1.17.*,!=1.18.*,!=1.19.*,>=1.14.0->google-cloud-pubsub) (4.6)\n",
            "Requirement already satisfied, skipping upgrade: cachetools<5.0,>=2.0.0 in /usr/local/lib/python3.6/dist-packages (from google-auth<2.0dev,>=0.4.0->google-api-core[grpc]!=1.17.*,!=1.18.*,!=1.19.*,>=1.14.0->google-cloud-pubsub) (4.1.0)\n",
            "Requirement already satisfied, skipping upgrade: pyasn1-modules>=0.2.1 in /usr/local/lib/python3.6/dist-packages (from google-auth<2.0dev,>=0.4.0->google-api-core[grpc]!=1.17.*,!=1.18.*,!=1.19.*,>=1.14.0->google-cloud-pubsub) (0.2.8)\n",
            "Requirement already satisfied, skipping upgrade: urllib3!=1.25.0,!=1.25.1,<1.26,>=1.21.1 in /usr/local/lib/python3.6/dist-packages (from requests<3.0.0dev,>=2.18.0->google-api-core[grpc]!=1.17.*,!=1.18.*,!=1.19.*,>=1.14.0->google-cloud-pubsub) (1.24.3)\n",
            "Requirement already satisfied, skipping upgrade: idna<3,>=2.5 in /usr/local/lib/python3.6/dist-packages (from requests<3.0.0dev,>=2.18.0->google-api-core[grpc]!=1.17.*,!=1.18.*,!=1.19.*,>=1.14.0->google-cloud-pubsub) (2.9)\n",
            "Requirement already satisfied, skipping upgrade: certifi>=2017.4.17 in /usr/local/lib/python3.6/dist-packages (from requests<3.0.0dev,>=2.18.0->google-api-core[grpc]!=1.17.*,!=1.18.*,!=1.19.*,>=1.14.0->google-cloud-pubsub) (2020.4.5.2)\n",
            "Requirement already satisfied, skipping upgrade: chardet<4,>=3.0.2 in /usr/local/lib/python3.6/dist-packages (from requests<3.0.0dev,>=2.18.0->google-api-core[grpc]!=1.17.*,!=1.18.*,!=1.19.*,>=1.14.0->google-cloud-pubsub) (3.0.4)\n",
            "Requirement already satisfied, skipping upgrade: pyasn1>=0.1.3 in /usr/local/lib/python3.6/dist-packages (from rsa<5,>=3.1.4; python_version >= \"3\"->google-auth<2.0dev,>=0.4.0->google-api-core[grpc]!=1.17.*,!=1.18.*,!=1.19.*,>=1.14.0->google-cloud-pubsub) (0.4.8)\n",
            "Building wheels for collected packages: grpc-google-iam-v1\n",
            "  Building wheel for grpc-google-iam-v1 (setup.py) ... \u001b[?25l\u001b[?25hdone\n",
            "  Created wheel for grpc-google-iam-v1: filename=grpc_google_iam_v1-0.12.3-cp36-none-any.whl size=18500 sha256=fc7311017e25f686c639866c889edf97031b0728eb2cdb09e1cbb9318021ea62\n",
            "  Stored in directory: /root/.cache/pip/wheels/de/3a/83/77a1e18e1a8757186df834b86ce6800120ac9c79cd8ca4091b\n",
            "Successfully built grpc-google-iam-v1\n",
            "Installing collected packages: grpc-google-iam-v1, google-cloud-pubsub\n",
            "Successfully installed google-cloud-pubsub-1.6.0 grpc-google-iam-v1-0.12.3\n"
          ],
          "name": "stdout"
        },
        {
          "output_type": "display_data",
          "data": {
            "application/vnd.colab-display-data+json": {
              "pip_warning": {
                "packages": [
                  "google"
                ]
              }
            }
          },
          "metadata": {
            "tags": []
          }
        }
      ]
    },
    {
      "cell_type": "code",
      "metadata": {
        "id": "Z12Gv-XbQOZg",
        "colab_type": "code",
        "colab": {
          "base_uri": "https://localhost:8080/",
          "height": 426
        },
        "outputId": "6e9702ac-c492-46d4-a25b-7e0e4a612e6b"
      },
      "source": [
        "\n",
        "!pip install --upgrade pip\n",
        "!pip install --upgrade protobuf"
      ],
      "execution_count": null,
      "outputs": [
        {
          "output_type": "stream",
          "text": [
            "Collecting pip\n",
            "\u001b[?25l  Downloading https://files.pythonhosted.org/packages/43/84/23ed6a1796480a6f1a2d38f2802901d078266bda38388954d01d3f2e821d/pip-20.1.1-py2.py3-none-any.whl (1.5MB)\n",
            "\r\u001b[K     |▏                               | 10kB 16.5MB/s eta 0:00:01\r\u001b[K     |▍                               | 20kB 6.3MB/s eta 0:00:01\r\u001b[K     |▋                               | 30kB 7.0MB/s eta 0:00:01\r\u001b[K     |▉                               | 40kB 8.6MB/s eta 0:00:01\r\u001b[K     |█                               | 51kB 7.1MB/s eta 0:00:01\r\u001b[K     |█▎                              | 61kB 7.9MB/s eta 0:00:01\r\u001b[K     |█▌                              | 71kB 8.4MB/s eta 0:00:01\r\u001b[K     |█▊                              | 81kB 8.5MB/s eta 0:00:01\r\u001b[K     |██                              | 92kB 8.8MB/s eta 0:00:01\r\u001b[K     |██▏                             | 102kB 9.4MB/s eta 0:00:01\r\u001b[K     |██▍                             | 112kB 9.4MB/s eta 0:00:01\r\u001b[K     |██▋                             | 122kB 9.4MB/s eta 0:00:01\r\u001b[K     |██▉                             | 133kB 9.4MB/s eta 0:00:01\r\u001b[K     |███                             | 143kB 9.4MB/s eta 0:00:01\r\u001b[K     |███▎                            | 153kB 9.4MB/s eta 0:00:01\r\u001b[K     |███▌                            | 163kB 9.4MB/s eta 0:00:01\r\u001b[K     |███▊                            | 174kB 9.4MB/s eta 0:00:01\r\u001b[K     |████                            | 184kB 9.4MB/s eta 0:00:01\r\u001b[K     |████▏                           | 194kB 9.4MB/s eta 0:00:01\r\u001b[K     |████▍                           | 204kB 9.4MB/s eta 0:00:01\r\u001b[K     |████▋                           | 215kB 9.4MB/s eta 0:00:01\r\u001b[K     |████▉                           | 225kB 9.4MB/s eta 0:00:01\r\u001b[K     |█████                           | 235kB 9.4MB/s eta 0:00:01\r\u001b[K     |█████▎                          | 245kB 9.4MB/s eta 0:00:01\r\u001b[K     |█████▌                          | 256kB 9.4MB/s eta 0:00:01\r\u001b[K     |█████▊                          | 266kB 9.4MB/s eta 0:00:01\r\u001b[K     |██████                          | 276kB 9.4MB/s eta 0:00:01\r\u001b[K     |██████▏                         | 286kB 9.4MB/s eta 0:00:01\r\u001b[K     |██████▍                         | 296kB 9.4MB/s eta 0:00:01\r\u001b[K     |██████▋                         | 307kB 9.4MB/s eta 0:00:01\r\u001b[K     |██████▉                         | 317kB 9.4MB/s eta 0:00:01\r\u001b[K     |███████                         | 327kB 9.4MB/s eta 0:00:01\r\u001b[K     |███████▎                        | 337kB 9.4MB/s eta 0:00:01\r\u001b[K     |███████▌                        | 348kB 9.4MB/s eta 0:00:01\r\u001b[K     |███████▊                        | 358kB 9.4MB/s eta 0:00:01\r\u001b[K     |████████                        | 368kB 9.4MB/s eta 0:00:01\r\u001b[K     |████████▏                       | 378kB 9.4MB/s eta 0:00:01\r\u001b[K     |████████▍                       | 389kB 9.4MB/s eta 0:00:01\r\u001b[K     |████████▋                       | 399kB 9.4MB/s eta 0:00:01\r\u001b[K     |████████▉                       | 409kB 9.4MB/s eta 0:00:01\r\u001b[K     |█████████                       | 419kB 9.4MB/s eta 0:00:01\r\u001b[K     |█████████▎                      | 430kB 9.4MB/s eta 0:00:01\r\u001b[K     |█████████▌                      | 440kB 9.4MB/s eta 0:00:01\r\u001b[K     |█████████▊                      | 450kB 9.4MB/s eta 0:00:01\r\u001b[K     |██████████                      | 460kB 9.4MB/s eta 0:00:01\r\u001b[K     |██████████▏                     | 471kB 9.4MB/s eta 0:00:01\r\u001b[K     |██████████▎                     | 481kB 9.4MB/s eta 0:00:01\r\u001b[K     |██████████▌                     | 491kB 9.4MB/s eta 0:00:01\r\u001b[K     |██████████▊                     | 501kB 9.4MB/s eta 0:00:01\r\u001b[K     |███████████                     | 512kB 9.4MB/s eta 0:00:01\r\u001b[K     |███████████▏                    | 522kB 9.4MB/s eta 0:00:01\r\u001b[K     |███████████▍                    | 532kB 9.4MB/s eta 0:00:01\r\u001b[K     |███████████▋                    | 542kB 9.4MB/s eta 0:00:01\r\u001b[K     |███████████▉                    | 552kB 9.4MB/s eta 0:00:01\r\u001b[K     |████████████                    | 563kB 9.4MB/s eta 0:00:01\r\u001b[K     |████████████▎                   | 573kB 9.4MB/s eta 0:00:01\r\u001b[K     |████████████▌                   | 583kB 9.4MB/s eta 0:00:01\r\u001b[K     |████████████▊                   | 593kB 9.4MB/s eta 0:00:01\r\u001b[K     |█████████████                   | 604kB 9.4MB/s eta 0:00:01\r\u001b[K     |█████████████▏                  | 614kB 9.4MB/s eta 0:00:01\r\u001b[K     |█████████████▍                  | 624kB 9.4MB/s eta 0:00:01\r\u001b[K     |█████████████▋                  | 634kB 9.4MB/s eta 0:00:01\r\u001b[K     |█████████████▉                  | 645kB 9.4MB/s eta 0:00:01\r\u001b[K     |██████████████                  | 655kB 9.4MB/s eta 0:00:01\r\u001b[K     |██████████████▎                 | 665kB 9.4MB/s eta 0:00:01\r\u001b[K     |██████████████▌                 | 675kB 9.4MB/s eta 0:00:01\r\u001b[K     |██████████████▊                 | 686kB 9.4MB/s eta 0:00:01\r\u001b[K     |███████████████                 | 696kB 9.4MB/s eta 0:00:01\r\u001b[K     |███████████████▏                | 706kB 9.4MB/s eta 0:00:01\r\u001b[K     |███████████████▍                | 716kB 9.4MB/s eta 0:00:01\r\u001b[K     |███████████████▋                | 727kB 9.4MB/s eta 0:00:01\r\u001b[K     |███████████████▉                | 737kB 9.4MB/s eta 0:00:01\r\u001b[K     |████████████████                | 747kB 9.4MB/s eta 0:00:01\r\u001b[K     |████████████████▎               | 757kB 9.4MB/s eta 0:00:01\r\u001b[K     |████████████████▌               | 768kB 9.4MB/s eta 0:00:01\r\u001b[K     |████████████████▊               | 778kB 9.4MB/s eta 0:00:01\r\u001b[K     |█████████████████               | 788kB 9.4MB/s eta 0:00:01\r\u001b[K     |█████████████████▏              | 798kB 9.4MB/s eta 0:00:01\r\u001b[K     |█████████████████▍              | 808kB 9.4MB/s eta 0:00:01\r\u001b[K     |█████████████████▋              | 819kB 9.4MB/s eta 0:00:01\r\u001b[K     |█████████████████▉              | 829kB 9.4MB/s eta 0:00:01\r\u001b[K     |██████████████████              | 839kB 9.4MB/s eta 0:00:01\r\u001b[K     |██████████████████▎             | 849kB 9.4MB/s eta 0:00:01\r\u001b[K     |██████████████████▌             | 860kB 9.4MB/s eta 0:00:01\r\u001b[K     |██████████████████▊             | 870kB 9.4MB/s eta 0:00:01\r\u001b[K     |███████████████████             | 880kB 9.4MB/s eta 0:00:01\r\u001b[K     |███████████████████▏            | 890kB 9.4MB/s eta 0:00:01\r\u001b[K     |███████████████████▍            | 901kB 9.4MB/s eta 0:00:01\r\u001b[K     |███████████████████▋            | 911kB 9.4MB/s eta 0:00:01\r\u001b[K     |███████████████████▉            | 921kB 9.4MB/s eta 0:00:01\r\u001b[K     |████████████████████            | 931kB 9.4MB/s eta 0:00:01\r\u001b[K     |████████████████████▎           | 942kB 9.4MB/s eta 0:00:01\r\u001b[K     |████████████████████▍           | 952kB 9.4MB/s eta 0:00:01\r\u001b[K     |████████████████████▋           | 962kB 9.4MB/s eta 0:00:01\r\u001b[K     |████████████████████▉           | 972kB 9.4MB/s eta 0:00:01\r\u001b[K     |█████████████████████           | 983kB 9.4MB/s eta 0:00:01\r\u001b[K     |█████████████████████▎          | 993kB 9.4MB/s eta 0:00:01\r\u001b[K     |█████████████████████▌          | 1.0MB 9.4MB/s eta 0:00:01\r\u001b[K     |█████████████████████▊          | 1.0MB 9.4MB/s eta 0:00:01\r\u001b[K     |██████████████████████          | 1.0MB 9.4MB/s eta 0:00:01\r\u001b[K     |██████████████████████▏         | 1.0MB 9.4MB/s eta 0:00:01\r\u001b[K     |██████████████████████▍         | 1.0MB 9.4MB/s eta 0:00:01\r\u001b[K     |██████████████████████▋         | 1.1MB 9.4MB/s eta 0:00:01\r\u001b[K     |██████████████████████▉         | 1.1MB 9.4MB/s eta 0:00:01\r\u001b[K     |███████████████████████         | 1.1MB 9.4MB/s eta 0:00:01\r\u001b[K     |███████████████████████▎        | 1.1MB 9.4MB/s eta 0:00:01\r\u001b[K     |███████████████████████▌        | 1.1MB 9.4MB/s eta 0:00:01\r\u001b[K     |███████████████████████▊        | 1.1MB 9.4MB/s eta 0:00:01\r\u001b[K     |████████████████████████        | 1.1MB 9.4MB/s eta 0:00:01\r\u001b[K     |████████████████████████▏       | 1.1MB 9.4MB/s eta 0:00:01\r\u001b[K     |████████████████████████▍       | 1.1MB 9.4MB/s eta 0:00:01\r\u001b[K     |████████████████████████▋       | 1.1MB 9.4MB/s eta 0:00:01\r\u001b[K     |████████████████████████▉       | 1.2MB 9.4MB/s eta 0:00:01\r\u001b[K     |█████████████████████████       | 1.2MB 9.4MB/s eta 0:00:01\r\u001b[K     |█████████████████████████▎      | 1.2MB 9.4MB/s eta 0:00:01\r\u001b[K     |█████████████████████████▌      | 1.2MB 9.4MB/s eta 0:00:01\r\u001b[K     |█████████████████████████▊      | 1.2MB 9.4MB/s eta 0:00:01\r\u001b[K     |██████████████████████████      | 1.2MB 9.4MB/s eta 0:00:01\r\u001b[K     |██████████████████████████▏     | 1.2MB 9.4MB/s eta 0:00:01\r\u001b[K     |██████████████████████████▍     | 1.2MB 9.4MB/s eta 0:00:01\r\u001b[K     |██████████████████████████▋     | 1.2MB 9.4MB/s eta 0:00:01\r\u001b[K     |██████████████████████████▉     | 1.2MB 9.4MB/s eta 0:00:01\r\u001b[K     |███████████████████████████     | 1.3MB 9.4MB/s eta 0:00:01\r\u001b[K     |███████████████████████████▎    | 1.3MB 9.4MB/s eta 0:00:01\r\u001b[K     |███████████████████████████▌    | 1.3MB 9.4MB/s eta 0:00:01\r\u001b[K     |███████████████████████████▊    | 1.3MB 9.4MB/s eta 0:00:01\r\u001b[K     |████████████████████████████    | 1.3MB 9.4MB/s eta 0:00:01\r\u001b[K     |████████████████████████████▏   | 1.3MB 9.4MB/s eta 0:00:01\r\u001b[K     |████████████████████████████▍   | 1.3MB 9.4MB/s eta 0:00:01\r\u001b[K     |████████████████████████████▋   | 1.3MB 9.4MB/s eta 0:00:01\r\u001b[K     |████████████████████████████▉   | 1.3MB 9.4MB/s eta 0:00:01\r\u001b[K     |█████████████████████████████   | 1.4MB 9.4MB/s eta 0:00:01\r\u001b[K     |█████████████████████████████▎  | 1.4MB 9.4MB/s eta 0:00:01\r\u001b[K     |█████████████████████████████▌  | 1.4MB 9.4MB/s eta 0:00:01\r\u001b[K     |█████████████████████████████▊  | 1.4MB 9.4MB/s eta 0:00:01\r\u001b[K     |██████████████████████████████  | 1.4MB 9.4MB/s eta 0:00:01\r\u001b[K     |██████████████████████████████▏ | 1.4MB 9.4MB/s eta 0:00:01\r\u001b[K     |██████████████████████████████▍ | 1.4MB 9.4MB/s eta 0:00:01\r\u001b[K     |██████████████████████████████▌ | 1.4MB 9.4MB/s eta 0:00:01\r\u001b[K     |██████████████████████████████▊ | 1.4MB 9.4MB/s eta 0:00:01\r\u001b[K     |███████████████████████████████ | 1.4MB 9.4MB/s eta 0:00:01\r\u001b[K     |███████████████████████████████▏| 1.5MB 9.4MB/s eta 0:00:01\r\u001b[K     |███████████████████████████████▍| 1.5MB 9.4MB/s eta 0:00:01\r\u001b[K     |███████████████████████████████▋| 1.5MB 9.4MB/s eta 0:00:01\r\u001b[K     |███████████████████████████████▉| 1.5MB 9.4MB/s eta 0:00:01\r\u001b[K     |████████████████████████████████| 1.5MB 9.4MB/s \n",
            "\u001b[?25hInstalling collected packages: pip\n",
            "  Found existing installation: pip 19.3.1\n",
            "    Uninstalling pip-19.3.1:\n",
            "      Successfully uninstalled pip-19.3.1\n",
            "Successfully installed pip-20.1.1\n",
            "Collecting protobuf\n",
            "  Downloading protobuf-3.12.2-cp36-cp36m-manylinux1_x86_64.whl (1.3 MB)\n",
            "\u001b[K     |████████████████████████████████| 1.3 MB 8.2 MB/s \n",
            "\u001b[?25hRequirement already satisfied, skipping upgrade: six>=1.9 in /usr/local/lib/python3.6/dist-packages (from protobuf) (1.15.0)\n",
            "Requirement already satisfied, skipping upgrade: setuptools in /usr/local/lib/python3.6/dist-packages (from protobuf) (47.3.1)\n",
            "Installing collected packages: protobuf\n",
            "  Attempting uninstall: protobuf\n",
            "    Found existing installation: protobuf 3.10.0\n",
            "    Uninstalling protobuf-3.10.0:\n",
            "      Successfully uninstalled protobuf-3.10.0\n",
            "Successfully installed protobuf-3.12.2\n"
          ],
          "name": "stdout"
        },
        {
          "output_type": "display_data",
          "data": {
            "application/vnd.colab-display-data+json": {
              "pip_warning": {
                "packages": [
                  "google"
                ]
              }
            }
          },
          "metadata": {
            "tags": []
          }
        }
      ]
    },
    {
      "cell_type": "code",
      "metadata": {
        "id": "TZL3ZA2KPW1J",
        "colab_type": "code",
        "colab": {
          "base_uri": "https://localhost:8080/",
          "height": 51
        },
        "outputId": "79ee2c97-0f34-4488-c5ce-93068d02c762"
      },
      "source": [
        "%matplotlib inline\n",
        "import matplotlib.pyplot as plt\n",
        "import json\n",
        "import numpy as np\n",
        "import os\n",
        "import pandas as pd\n",
        "import pandas_gbq\n",
        "import seaborn as sns\n",
        "import time\n",
        "import queue as queue\n",
        "from google.cloud import pubsub_v1\n",
        "from IPython import display"
      ],
      "execution_count": null,
      "outputs": [
        {
          "output_type": "stream",
          "text": [
            "/usr/local/lib/python3.6/dist-packages/statsmodels/tools/_testing.py:19: FutureWarning: pandas.util.testing is deprecated. Use the functions in the public API at pandas.testing instead.\n",
            "  import pandas.util.testing as tm\n"
          ],
          "name": "stderr"
        }
      ]
    },
    {
      "cell_type": "code",
      "metadata": {
        "id": "11f98L1viA0g",
        "colab_type": "code",
        "cellView": "form",
        "colab": {}
      },
      "source": [
        "# @title Configurations\n",
        "\n",
        "# project related\n",
        "GOOGLE_CLOUD_PROJECT = 'e2e-status-monitoring' #@param\n",
        "GOOGLE_APPLICATION_CREDENTIALS = 'e2e_demo_credential.json' #@param\n",
        "os.environ['GOOGLE_APPLICATION_CREDENTIALS'] = GOOGLE_APPLICATION_CREDENTIALS\n",
        "\n",
        "# data related\n",
        "DATASET_ID = 'EnergyDisaggregation'\n",
        "\n",
        "# pubsub related\n",
        "PRED_TOPIC = 'pred'\n",
        "SUB_NAME = 'sub1'\n",
        "DEVICE_ID = 'e2e-status-monitoring-device-1' #@param"
      ],
      "execution_count": null,
      "outputs": []
    },
    {
      "cell_type": "code",
      "metadata": {
        "id": "mYuwalNadXU1",
        "colab_type": "code",
        "colab": {
          "base_uri": "https://localhost:8080/",
          "height": 273
        },
        "outputId": "a8d3d546-b3dd-427c-ef93-50346080f573"
      },
      "source": [
        "!pip install --upgrade pyarrow"
      ],
      "execution_count": null,
      "outputs": [
        {
          "output_type": "stream",
          "text": [
            "Collecting pyarrow\n",
            "  Downloading pyarrow-0.17.1-cp36-cp36m-manylinux2014_x86_64.whl (63.8 MB)\n",
            "\u001b[K     |████████████████████████████████| 63.8 MB 58 kB/s \n",
            "\u001b[?25hRequirement already satisfied, skipping upgrade: numpy>=1.14 in /usr/local/lib/python3.6/dist-packages (from pyarrow) (1.18.5)\n",
            "Installing collected packages: pyarrow\n",
            "  Attempting uninstall: pyarrow\n",
            "    Found existing installation: pyarrow 0.14.1\n",
            "    Uninstalling pyarrow-0.14.1:\n",
            "      Successfully uninstalled pyarrow-0.14.1\n",
            "Successfully installed pyarrow-0.17.1\n"
          ],
          "name": "stdout"
        },
        {
          "output_type": "display_data",
          "data": {
            "application/vnd.colab-display-data+json": {
              "pip_warning": {
                "packages": [
                  "pyarrow"
                ]
              }
            }
          },
          "metadata": {
            "tags": []
          }
        }
      ]
    },
    {
      "cell_type": "markdown",
      "metadata": {
        "id": "aDLEKuTtiA0j",
        "colab_type": "text"
      },
      "source": [
        "# BQ data loading"
      ]
    },
    {
      "cell_type": "code",
      "metadata": {
        "id": "IgR9WcYViA0j",
        "colab_type": "code",
        "cellView": "both",
        "colab": {}
      },
      "source": [
        "# @title Utility\n",
        "\n",
        "def get_appliance_info(project_id, dataset):\n",
        "    \"\"\"Get appliance info from the big query table.\n",
        "    \n",
        "    Load appliance info from big query table.\n",
        "    \n",
        "    Args:\n",
        "      project_id: str, google cloud project id.\n",
        "      dataset: str, name of the dataset.\n",
        "    Returns:\n",
        "      pandas.DataFrame, appliance info.\n",
        "    \"\"\"\n",
        "    res = pandas_gbq.read_gbq(\n",
        "        'SELECT * FROM {}.ApplianceInfo'.format(dataset),\n",
        "        project_id,\n",
        "        dialect='legacy')\n",
        "    return res\n",
        "\n",
        "def load_ground_truth(project_id, dataset, appliance_id):\n",
        "    \"\"\"Load ground-truth data of a specified appliance from big query table.\n",
        "\n",
        "    Load true appliance status from big query data.\n",
        "\n",
        "    Args:\n",
        "        project_id: str, google project id.\n",
        "        dataset: str, dataset name.\n",
        "        appliance_id: int, appliance id.\n",
        "    Returns:\n",
        "        pandas.DataFrame, ground truth appliance status.\n",
        "    \"\"\"\n",
        "    query = \"\"\"\n",
        "    SELECT * FROM {}.ApplianceStatusGroundTruth\n",
        "    WHERE appliance_id = {}\n",
        "    ORDER BY time\n",
        "    \"\"\".format(dataset, appliance_id)\n",
        "    return pandas_gbq.read_gbq(query,\n",
        "                               project_id,\n",
        "                               index_col='time',\n",
        "                               dialect='legacy')\n",
        "\n",
        "def load_data(project_id, dataset, app_ids):\n",
        "    \"\"\"Load ground-truth data from big query table.\n",
        "\n",
        "    Load true appliance status from big query data.\n",
        "\n",
        "    Args:\n",
        "        project_id: str, google project id.\n",
        "        dataset: str, dataset name.\n",
        "        app_ids: list, appliances' ids.\n",
        "    Returns:\n",
        "        dict, {appliance_id: ground truth data (pandas.DataFrame)}\n",
        "    \"\"\"\n",
        "    print('Loading ground truth data ...')\n",
        "    gt = {}\n",
        "    for k in app_ids:\n",
        "        gt[k] = load_ground_truth(project_id, dataset, k)\n",
        "    print('Data loaded.')\n",
        "    return gt"
      ],
      "execution_count": null,
      "outputs": []
    },
    {
      "cell_type": "code",
      "metadata": {
        "id": "sLijm-ldiA0m",
        "colab_type": "code",
        "cellView": "both",
        "colab": {
          "base_uri": "https://localhost:8080/",
          "height": 297
        },
        "outputId": "5b7f1e63-fca9-423f-f189-28368a977558"
      },
      "source": [
        "# @title Load appliance info\n",
        "\n",
        "app_info = get_appliance_info(GOOGLE_CLOUD_PROJECT, DATASET_ID)\n",
        "app_info"
      ],
      "execution_count": null,
      "outputs": [
        {
          "output_type": "execute_result",
          "data": {
            "text/html": [
              "<div>\n",
              "<style scoped>\n",
              "    .dataframe tbody tr th:only-of-type {\n",
              "        vertical-align: middle;\n",
              "    }\n",
              "\n",
              "    .dataframe tbody tr th {\n",
              "        vertical-align: top;\n",
              "    }\n",
              "\n",
              "    .dataframe thead th {\n",
              "        text-align: right;\n",
              "    }\n",
              "</style>\n",
              "<table border=\"1\" class=\"dataframe\">\n",
              "  <thead>\n",
              "    <tr style=\"text-align: right;\">\n",
              "      <th></th>\n",
              "      <th>appliance_name</th>\n",
              "      <th>appliance_id</th>\n",
              "    </tr>\n",
              "  </thead>\n",
              "  <tbody>\n",
              "    <tr>\n",
              "      <th>0</th>\n",
              "      <td>running_machine</td>\n",
              "      <td>0</td>\n",
              "    </tr>\n",
              "    <tr>\n",
              "      <th>1</th>\n",
              "      <td>washing_machine</td>\n",
              "      <td>1</td>\n",
              "    </tr>\n",
              "    <tr>\n",
              "      <th>2</th>\n",
              "      <td>dish_washer</td>\n",
              "      <td>2</td>\n",
              "    </tr>\n",
              "    <tr>\n",
              "      <th>3</th>\n",
              "      <td>microwave</td>\n",
              "      <td>3</td>\n",
              "    </tr>\n",
              "    <tr>\n",
              "      <th>4</th>\n",
              "      <td>toaster</td>\n",
              "      <td>4</td>\n",
              "    </tr>\n",
              "    <tr>\n",
              "      <th>5</th>\n",
              "      <td>kettle</td>\n",
              "      <td>5</td>\n",
              "    </tr>\n",
              "    <tr>\n",
              "      <th>6</th>\n",
              "      <td>rice_cooker</td>\n",
              "      <td>6</td>\n",
              "    </tr>\n",
              "    <tr>\n",
              "      <th>7</th>\n",
              "      <td>cooker</td>\n",
              "      <td>7</td>\n",
              "    </tr>\n",
              "  </tbody>\n",
              "</table>\n",
              "</div>"
            ],
            "text/plain": [
              "    appliance_name  appliance_id\n",
              "0  running_machine             0\n",
              "1  washing_machine             1\n",
              "2      dish_washer             2\n",
              "3        microwave             3\n",
              "4          toaster             4\n",
              "5           kettle             5\n",
              "6      rice_cooker             6\n",
              "7           cooker             7"
            ]
          },
          "metadata": {
            "tags": []
          },
          "execution_count": 7
        }
      ]
    },
    {
      "cell_type": "code",
      "metadata": {
        "id": "MSguFEpsiA0o",
        "colab_type": "code",
        "cellView": "both",
        "colab": {
          "base_uri": "https://localhost:8080/",
          "height": 153
        },
        "outputId": "469ecd54-79e9-4994-c194-4ab79aad4580"
      },
      "source": [
        "# @title Create appliance Id to name mapping\n",
        "\n",
        "app_id_name_map = {row[1]: row[0] for i, row in app_info.iterrows()}\n",
        "app_id_name_map"
      ],
      "execution_count": null,
      "outputs": [
        {
          "output_type": "execute_result",
          "data": {
            "text/plain": [
              "{0: 'running_machine',\n",
              " 1: 'washing_machine',\n",
              " 2: 'dish_washer',\n",
              " 3: 'microwave',\n",
              " 4: 'toaster',\n",
              " 5: 'kettle',\n",
              " 6: 'rice_cooker',\n",
              " 7: 'cooker'}"
            ]
          },
          "metadata": {
            "tags": []
          },
          "execution_count": 8
        }
      ]
    },
    {
      "cell_type": "code",
      "metadata": {
        "id": "dmzRNLX8iA0r",
        "colab_type": "code",
        "cellView": "both",
        "colab": {
          "base_uri": "https://localhost:8080/",
          "height": 51
        },
        "outputId": "ffe3b8cb-34b0-4071-8ddd-5e31cdf04e07"
      },
      "source": [
        "# @title Load ground truth data (this can take some time)\n",
        "ground_truth = load_data(project_id=GOOGLE_CLOUD_PROJECT,\n",
        "                         dataset=DATASET_ID,\n",
        "                         app_ids=app_id_name_map.keys())"
      ],
      "execution_count": null,
      "outputs": [
        {
          "output_type": "stream",
          "text": [
            "Loading ground truth data ...\n",
            "Data loaded.\n"
          ],
          "name": "stdout"
        }
      ]
    },
    {
      "cell_type": "markdown",
      "metadata": {
        "id": "kZor4sdbiA0t",
        "colab_type": "text"
      },
      "source": [
        "# Start subscriber"
      ]
    },
    {
      "cell_type": "markdown",
      "metadata": {
        "id": "Fc6e4XHHiA0z",
        "colab_type": "text"
      },
      "source": [
        "When the following cell is run, it will pull messages from a pub/sub topic.  \n",
        "The message contains both raw power readings and prediction results from CMLE.  \n",
        "It plots the raw active powers, it also updates precision/recall for each appliance.  "
      ]
    },
    {
      "cell_type": "code",
      "metadata": {
        "id": "mA2aValZiA0v",
        "colab_type": "code",
        "cellView": "both",
        "colab": {}
      },
      "source": [
        "# @title Utility\n",
        "\n",
        "class MsgProcesser(object):\n",
        "    \"\"\"Subscribe to a pub/sub topic and process incoming messages.\"\"\"\n",
        "    \n",
        "    def __init__(self,\n",
        "                 project_id,\n",
        "                 ground_truth,\n",
        "                 topic_name,\n",
        "                 subscription_name,\n",
        "                 app_id_name_map,\n",
        "                 target_device):\n",
        "        # member initialization\n",
        "        self._gt = ground_truth\n",
        "        self._data = pd.Series(np.zeros(self._gt[0].shape[0]),\n",
        "                                index=self._gt[0].index)\n",
        "        self._app_id_to_name = app_id_name_map\n",
        "        self._target_device = target_device\n",
        "        self._app_names = [app_id_name_map[k]\n",
        "                           for k in range(len(app_id_name_map.keys()))]\n",
        "        self._queue = queue.Queue(maxsize=100000)\n",
        "        # create subsciprtion\n",
        "        self._subscriber, self._subscription_path = (\n",
        "            self.create_subscription(project_id, topic_name, subscription_name))\n",
        "        #self._subscriber.subscribe(self._subscription_path,\n",
        "            #                       callback=self._msg_callback)\n",
        "        \n",
        "    def create_subscription(self, project_id, topic_name, subscription_name):\n",
        "        \"\"\"Create a subscription in pub/sub.\n",
        "    \n",
        "        Before listening to incoming messages, we need to define a subscription.\n",
        "        This function creates a new subscription only if it does not exist.\n",
        "\n",
        "        Args:\n",
        "          project_id: str, google cloud project id.\n",
        "          topic_name: str, topic name.\n",
        "          subscription_name: str, name of the new subscription.\n",
        "        Returns:\n",
        "          (google.cloud.pubsub_v1.SubscriberClient, topic_path)\n",
        "        \"\"\"\n",
        "        print('Creating subscription \"{}\" to topic \"{}\" ...'.format(\n",
        "            subscription_name, topic_name))\n",
        "        subscriber = None\n",
        "        subscription_path = None\n",
        "        try:\n",
        "            subscriber = pubsub_v1.SubscriberClient()\n",
        "            topic_path = subscriber.topic_path(project_id, topic_name)\n",
        "            subscription_path = subscriber.subscription_path(\n",
        "                project_id, subscription_name)\n",
        "            # if the subscription exists, exception is raised here\n",
        "            subscription = subscriber.create_subscription(\n",
        "                subscription_path, topic_path)\n",
        "            print('Subscription created: {}'.format(subscription))\n",
        "        except Exception as e:\n",
        "            print('Subscription \"{}\" existed.'.format(subscription_name))\n",
        "        return subscriber, subscription_path\n",
        "    \n",
        "    def async_pull_msg(self):\n",
        "        \"\"\"Pull messages asynchronously from pub/sub topic.\"\"\"\n",
        "        # initialize metrics\n",
        "        self._metrics = [{'TP': 0, 'TN': 0, 'FP': 0, 'FN': 0}\n",
        "                         for k in range(len(self._app_id_to_name))]\n",
        "        precisions = [0. for k in self._app_id_to_name]\n",
        "        recalls = [0. for k in self._app_id_to_name]\n",
        "        # initialize UI\n",
        "        fig, ax = plt.subplots(1, 1, figsize=(16, 4))\n",
        "        sns.axes_style('white')\n",
        "        # receive data and update UI\n",
        "        print('Listening for messages on {} ...'.format(\n",
        "          self._subscription_path))\n",
        "        max_t = None\n",
        "        while(True):\n",
        "            # collect data from callback threads\n",
        "            t, d, probs = self._queue.get()\n",
        "            if max_t is None:\n",
        "                max_t = t\n",
        "            else:\n",
        "                max_t = max(t, max_t)\n",
        "            self._data.at[t] = d\n",
        "            for k in self._app_id_to_name:\n",
        "                truth = self._gt[k].status.at[t]\n",
        "                pred = 1 if probs[k] >= 0.5 else 0\n",
        "                if truth == 1 and pred == 1:\n",
        "                    self._metrics[k]['TP'] += 1\n",
        "                elif truth == 0 and pred == 0:\n",
        "                    self._metrics[k]['TN'] += 1\n",
        "                elif truth == 1 and pred == 0:\n",
        "                    self._metrics[k]['FN'] += 1\n",
        "                else:\n",
        "                    self._metrics[k]['FP'] += 1\n",
        "                TP = self._metrics[k]['TP']\n",
        "                FP = self._metrics[k]['FP']\n",
        "                FN = self._metrics[k]['FN']\n",
        "                precisions[k] = (\n",
        "                  np.nan if TP + FP == 0 else round(1.0 * TP / (TP + FP), 2))\n",
        "                recalls[k] = (\n",
        "                  np.nan if TP + FN == 0 else round(1.0 * TP / (TP + FN), 2))\n",
        "                \n",
        "            score_matrix = pd.DataFrame({'Precision': precisions,\n",
        "                                         'Recall': recalls},\n",
        "                                        index=self._app_names)\n",
        "                        \n",
        "            # update view in the main thread\n",
        "            ax.clear()\n",
        "            x = max_t.astype('datetime64[h]')\n",
        "            mask = (self._data.index >= x) & (self._data.index < x + 1)\n",
        "            ax = sns.lineplot(data=self._data[mask], linewidth=2.5, ax=ax)\n",
        "            ax.set_xlabel('time')\n",
        "            ax.set_ylabel('active power')\n",
        "            ax.set_ylim(bottom=0)\n",
        "            title = 'Device: {}, Date: {} (UTC)'.format(\n",
        "              self._target_device, max_t.astype('datetime64[D]'))\n",
        "            ax.set_title(title)\n",
        "            display.clear_output(wait=True)\n",
        "            display.display(plt.gcf())\n",
        "            display.display(score_matrix)\n",
        "            \n",
        "    def _msg_callback(self, message):\n",
        "        \"\"\"Pub/sub pull callback.\"\"\"\n",
        "        try:\n",
        "            data = json.loads(message.data.decode('utf-8'))\n",
        "            device_id = data['device_id']\n",
        "            if device_id == self._target_device:\n",
        "              t = np.datetime64(data['time'][-1])\n",
        "              d = data['data'][-1]\n",
        "              probs = data['probs']\n",
        "              self._queue.put((t, d, probs))\n",
        "        except Exception as e:\n",
        "            print('Error: {}'.format(e))\n",
        "        message.ack()"
      ],
      "execution_count": null,
      "outputs": []
    },
    {
      "cell_type": "code",
      "metadata": {
        "id": "DSUQgFu5iA00",
        "colab_type": "code",
        "cellView": "both",
        "colab": {
          "base_uri": "https://localhost:8080/",
          "height": 368
        },
        "outputId": "fc658633-348e-4e9e-ec43-b7167ae057eb"
      },
      "source": [
        "# @title Visualization\n",
        "\n",
        "tt = MsgProcesser(project_id=GOOGLE_CLOUD_PROJECT,\n",
        "                  ground_truth=ground_truth,\n",
        "                  topic_name=PRED_TOPIC,\n",
        "                  subscription_name=SUB_NAME,\n",
        "                  app_id_name_map=app_id_name_map,\n",
        "                  target_device=DEVICE_ID)\n",
        "tt.async_pull_msg()"
      ],
      "execution_count": null,
      "outputs": [
        {
          "output_type": "stream",
          "text": [
            "Creating subscription \"sub1\" to topic \"pred\" ...\n",
            "Subscription \"sub1\" existed.\n"
          ],
          "name": "stdout"
        },
        {
          "output_type": "error",
          "ename": "AttributeError",
          "evalue": "ignored",
          "traceback": [
            "\u001b[0;31m---------------------------------------------------------------------------\u001b[0m",
            "\u001b[0;31mAttributeError\u001b[0m                            Traceback (most recent call last)",
            "\u001b[0;32m<ipython-input-15-867a3efaf0d8>\u001b[0m in \u001b[0;36m<module>\u001b[0;34m()\u001b[0m\n\u001b[1;32m      6\u001b[0m                   \u001b[0msubscription_name\u001b[0m\u001b[0;34m=\u001b[0m\u001b[0mSUB_NAME\u001b[0m\u001b[0;34m,\u001b[0m\u001b[0;34m\u001b[0m\u001b[0;34m\u001b[0m\u001b[0m\n\u001b[1;32m      7\u001b[0m                   \u001b[0mapp_id_name_map\u001b[0m\u001b[0;34m=\u001b[0m\u001b[0mapp_id_name_map\u001b[0m\u001b[0;34m,\u001b[0m\u001b[0;34m\u001b[0m\u001b[0;34m\u001b[0m\u001b[0m\n\u001b[0;32m----> 8\u001b[0;31m                   target_device=DEVICE_ID)\n\u001b[0m\u001b[1;32m      9\u001b[0m \u001b[0mtt\u001b[0m\u001b[0;34m.\u001b[0m\u001b[0masync_pull_msg\u001b[0m\u001b[0;34m(\u001b[0m\u001b[0;34m)\u001b[0m\u001b[0;34m\u001b[0m\u001b[0;34m\u001b[0m\u001b[0m\n",
            "\u001b[0;32m<ipython-input-14-d6e2ea844b79>\u001b[0m in \u001b[0;36m__init__\u001b[0;34m(self, project_id, ground_truth, topic_name, subscription_name, app_id_name_map, target_device)\u001b[0m\n\u001b[1;32m     23\u001b[0m         self._subscriber, self._subscription_path = (\n\u001b[1;32m     24\u001b[0m             self.create_subscription(project_id, topic_name, subscription_name))\n\u001b[0;32m---> 25\u001b[0;31m         self._subscriber.subscribe(self._subscription_path,\n\u001b[0m\u001b[1;32m     26\u001b[0m                                    callback=self._msg_callback)\n\u001b[1;32m     27\u001b[0m \u001b[0;34m\u001b[0m\u001b[0m\n",
            "\u001b[0;31mAttributeError\u001b[0m: 'NoneType' object has no attribute 'subscribe'"
          ]
        }
      ]
    },
    {
      "cell_type": "code",
      "metadata": {
        "id": "85Ty2zNBiA02",
        "colab_type": "code",
        "colab": {}
      },
      "source": [
        ""
      ],
      "execution_count": null,
      "outputs": []
    }
  ]
}